{
 "cells": [
  {
   "cell_type": "code",
   "execution_count": 1,
   "id": "3425adf6",
   "metadata": {},
   "outputs": [],
   "source": [
    "import json\n",
    "import praw\n",
    "from datetime import datetime\n",
    "from redditClient import redditClient\n",
    "from youtubeClient import youtubeClient\n",
    "from googleapiclient.errors import HttpError"
   ]
  },
  {
   "cell_type": "code",
   "execution_count": 2,
   "id": "75482c4c",
   "metadata": {},
   "outputs": [],
   "source": [
    "# Initialise clients\n",
    "reddit_client = redditClient()\n",
    "youtube_client = youtubeClient()"
   ]
  },
  {
   "cell_type": "code",
   "execution_count": 3,
   "id": "25cdc131",
   "metadata": {},
   "outputs": [],
   "source": [
    "# Define the keywords and time period (2024)\n",
    "keywords = ['AI in games', 'mental health in gaming', 'cyberbullying in gaming', 'stress relief in gaming']\n",
    "year_filter = 2024"
   ]
  },
  {
   "cell_type": "code",
   "execution_count": 4,
   "id": "8324e94c",
   "metadata": {},
   "outputs": [],
   "source": [
    "reddit_data = []\n",
    "youtube_data = []"
   ]
  },
  {
   "cell_type": "code",
   "execution_count": 5,
   "id": "a9bf7d65",
   "metadata": {},
   "outputs": [],
   "source": [
    "# --- Reddit Data Collection ---\n",
    "ID = 0  \n",
    "for keyword in keywords:\n",
    "    for submission in reddit_client.subreddit('all').search(keyword, time_filter='year', limit=1000):\n",
    "        # Extract data from Reddit submissions and ensure it's from 2024\n",
    "        if datetime.utcfromtimestamp(submission.created_utc).year == year_filter:\n",
    "            subData = {\n",
    "                'title': submission.title,\n",
    "                'ID': ID,\n",
    "                'date': datetime.fromtimestamp(submission.created_utc).strftime('%Y-%m-%d %H:%M:%S'),\n",
    "                'keyword': keyword,\n",
    "                'score': submission.score,\n",
    "                'comments': [comment.body for comment in submission.comments[:50] if isinstance(comment, praw.models.Comment)],\n",
    "            }\n",
    "            ID += 1\n",
    "            reddit_data.append(subData)"
   ]
  },
  {
   "cell_type": "code",
   "execution_count": 6,
   "id": "f8d1777a",
   "metadata": {},
   "outputs": [
    {
     "name": "stdout",
     "output_type": "stream",
     "text": [
      "Total number of posts: 833\n",
      "Total number of comments: 25333\n"
     ]
    }
   ],
   "source": [
    "# Print the number of posts\n",
    "print(f\"Total number of posts: {len(reddit_data)}\")\n",
    "\n",
    "# Calculate the total number of comments\n",
    "print(f\"Total number of comments: {sum(len(submission['comments']) for submission in reddit_data)}\")"
   ]
  },
  {
   "cell_type": "code",
   "execution_count": 7,
   "id": "2e0a112c",
   "metadata": {},
   "outputs": [
    {
     "name": "stdout",
     "output_type": "stream",
     "text": [
      "Comments are disabled for video 0dEm2lF2dH4. Skipping...\n"
     ]
    }
   ],
   "source": [
    "# --- YouTube Data Collection ---\n",
    "ID = 0  \n",
    "for keyword in keywords:\n",
    "    videos = youtube_client.search().list(q=keyword, part='snippet', type='video', maxResults=1000).execute()\n",
    "\n",
    "    for video in videos['items']:\n",
    "        video_id = video['id']['videoId']\n",
    "        title = video['snippet']['title']\n",
    "        published_at = video['snippet']['publishedAt'][:10]  # Get date in YYYY-MM-DD format\n",
    "        year = int(published_at.split('-')[0])\n",
    "        \n",
    "        # Filter by the current year (2024)\n",
    "        if year == year_filter:\n",
    "            try:\n",
    "                comments = youtube_client.commentThreads().list(part='snippet', videoId=video_id, maxResults=100).execute()\n",
    "                video_data = {\n",
    "                    'title': title,\n",
    "                    'ID': ID,\n",
    "                    'date': published_at,\n",
    "                    'keyword': keyword,\n",
    "                    'comments': [comment['snippet']['topLevelComment']['snippet']['textOriginal'] for comment in comments['items']],\n",
    "                }\n",
    "            except HttpError as e:\n",
    "                # Handle the case where comments are disabled\n",
    "                print(f\"Comments are disabled for video {video_id}. Skipping...\")\n",
    "                continue\n",
    "            ID += 1\n",
    "            youtube_data.append(video_data)"
   ]
  },
  {
   "cell_type": "code",
   "execution_count": 8,
   "id": "8c40f861",
   "metadata": {},
   "outputs": [
    {
     "name": "stdout",
     "output_type": "stream",
     "text": [
      "Total number of posts: 70\n",
      "Total number of comments: 3064\n"
     ]
    }
   ],
   "source": [
    "# Print the number of posts\n",
    "print(f\"Total number of posts: {len(youtube_data)}\")\n",
    "\n",
    "# Calculate the total number of comments\n",
    "print(f\"Total number of comments: {sum(len(videos['comments']) for videos in youtube_data)}\")"
   ]
  },
  {
   "cell_type": "code",
   "execution_count": 9,
   "id": "a30f0e72",
   "metadata": {},
   "outputs": [
    {
     "name": "stdout",
     "output_type": "stream",
     "text": [
      "Reddit and YouTube data saved!!!\n"
     ]
    }
   ],
   "source": [
    "# Save Reddit data to JSON\n",
    "with open('redditGamingData.json', 'w') as jsonFile:\n",
    "    json.dump(reddit_data, jsonFile, indent=4)\n",
    "\n",
    "# Save YouTube data to JSON\n",
    "with open('youtubeGamingData.json', 'w') as jsonFile:\n",
    "    json.dump(youtube_data, jsonFile, indent=4)\n",
    "\n",
    "print(f\"Reddit and YouTube data saved!!!\")"
   ]
  }
 ],
 "metadata": {
  "kernelspec": {
   "display_name": "Python 3 (ipykernel)",
   "language": "python",
   "name": "python3"
  },
  "language_info": {
   "codemirror_mode": {
    "name": "ipython",
    "version": 3
   },
   "file_extension": ".py",
   "mimetype": "text/x-python",
   "name": "python",
   "nbconvert_exporter": "python",
   "pygments_lexer": "ipython3",
   "version": "3.11.3"
  }
 },
 "nbformat": 4,
 "nbformat_minor": 5
}
